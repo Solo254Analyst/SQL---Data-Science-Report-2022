{
 "cells": [
  {
   "cell_type": "markdown",
   "id": "0d34d1f3",
   "metadata": {},
   "source": [
    "# COMMONLY USED DATA SCIENCE TOOLS, METHODS, AND TECHNOLOGIES"
   ]
  },
  {
   "cell_type": "code",
   "execution_count": 11,
   "id": "ea1445a0",
   "metadata": {},
   "outputs": [],
   "source": [
    "import mysql.connector\n",
    "import configparser\n",
    "import pandas as pd\n",
    "import matplotlib.pyplot as plt\n",
    "import plotly.express as px"
   ]
  },
  {
   "cell_type": "code",
   "execution_count": 12,
   "id": "95a20cb3",
   "metadata": {},
   "outputs": [
    {
     "name": "stdout",
     "output_type": "stream",
     "text": [
      "connected\n"
     ]
    }
   ],
   "source": [
    "config = configparser.ConfigParser()\n",
    "config.read('My_SQL.ini')\n",
    "try:\n",
    "    mydb = mysql.connector.connect(\n",
    "        host = config.get(\"My_SQL\", \"host\"),\n",
    "        port = config.get(\"My_SQL\", \"port\"),\n",
    "        user = config.get(\"My_SQL\", \"user\"),\n",
    "        password = config.get(\"My_SQL\", \"password\"),\n",
    "        database = config.get(\"My_SQL\", \"database\"))\n",
    "    cur = mydb.cursor(buffered=True)\n",
    "    print(\"connected\")\n",
    "except:\n",
    "    print(\"unable to connect\")"
   ]
  },
  {
   "cell_type": "markdown",
   "id": "1d5e5646",
   "metadata": {},
   "source": [
    "### Programming Languages"
   ]
  },
  {
   "cell_type": "code",
   "execution_count": 189,
   "id": "2001dcd4",
   "metadata": {
    "scrolled": false
   },
   "outputs": [
    {
     "name": "stderr",
     "output_type": "stream",
     "text": [
      "C:\\Users\\King Solo\\AppData\\Local\\Temp\\ipykernel_6108\\4062507037.py:2: UserWarning: pandas only supports SQLAlchemy connectable (engine/connection) or database string URI or sqlite3 DBAPI2 connection. Other DBAPI2 objects are not tested. Please consider using SQLAlchemy.\n",
      "  df_pl = pd.read_sql_query(\n"
     ]
    },
    {
     "data": {
      "text/html": [
       "<div>\n",
       "<style scoped>\n",
       "    .dataframe tbody tr th:only-of-type {\n",
       "        vertical-align: middle;\n",
       "    }\n",
       "\n",
       "    .dataframe tbody tr th {\n",
       "        vertical-align: top;\n",
       "    }\n",
       "\n",
       "    .dataframe thead th {\n",
       "        text-align: right;\n",
       "    }\n",
       "</style>\n",
       "<table border=\"1\" class=\"dataframe\">\n",
       "  <thead>\n",
       "    <tr style=\"text-align: right;\">\n",
       "      <th></th>\n",
       "      <th>language</th>\n",
       "      <th>Number_of_Respondents</th>\n",
       "    </tr>\n",
       "  </thead>\n",
       "  <tbody>\n",
       "    <tr>\n",
       "      <th>0</th>\n",
       "      <td>None</td>\n",
       "      <td>256</td>\n",
       "    </tr>\n",
       "    <tr>\n",
       "      <th>1</th>\n",
       "      <td>Julia</td>\n",
       "      <td>296</td>\n",
       "    </tr>\n",
       "    <tr>\n",
       "      <th>2</th>\n",
       "      <td>Go</td>\n",
       "      <td>322</td>\n",
       "    </tr>\n",
       "    <tr>\n",
       "      <th>3</th>\n",
       "      <td>Other</td>\n",
       "      <td>1342</td>\n",
       "    </tr>\n",
       "    <tr>\n",
       "      <th>4</th>\n",
       "      <td>PHP</td>\n",
       "      <td>1443</td>\n",
       "    </tr>\n",
       "    <tr>\n",
       "      <th>5</th>\n",
       "      <td>C#</td>\n",
       "      <td>1473</td>\n",
       "    </tr>\n",
       "    <tr>\n",
       "      <th>6</th>\n",
       "      <td>Bash</td>\n",
       "      <td>1674</td>\n",
       "    </tr>\n",
       "    <tr>\n",
       "      <th>7</th>\n",
       "      <td>MATLAB</td>\n",
       "      <td>2441</td>\n",
       "    </tr>\n",
       "    <tr>\n",
       "      <th>8</th>\n",
       "      <td>Javascript</td>\n",
       "      <td>3489</td>\n",
       "    </tr>\n",
       "    <tr>\n",
       "      <th>9</th>\n",
       "      <td>C</td>\n",
       "      <td>3801</td>\n",
       "    </tr>\n",
       "    <tr>\n",
       "      <th>10</th>\n",
       "      <td>Java</td>\n",
       "      <td>3862</td>\n",
       "    </tr>\n",
       "    <tr>\n",
       "      <th>11</th>\n",
       "      <td>C++</td>\n",
       "      <td>4549</td>\n",
       "    </tr>\n",
       "    <tr>\n",
       "      <th>12</th>\n",
       "      <td>R</td>\n",
       "      <td>4571</td>\n",
       "    </tr>\n",
       "    <tr>\n",
       "      <th>13</th>\n",
       "      <td>SQL</td>\n",
       "      <td>9620</td>\n",
       "    </tr>\n",
       "    <tr>\n",
       "      <th>14</th>\n",
       "      <td>Python</td>\n",
       "      <td>18653</td>\n",
       "    </tr>\n",
       "  </tbody>\n",
       "</table>\n",
       "</div>"
      ],
      "text/plain": [
       "      language  Number_of_Respondents\n",
       "0         None                    256\n",
       "1        Julia                    296\n",
       "2           Go                    322\n",
       "3        Other                   1342\n",
       "4          PHP                   1443\n",
       "5           C#                   1473\n",
       "6         Bash                   1674\n",
       "7       MATLAB                   2441\n",
       "8   Javascript                   3489\n",
       "9            C                   3801\n",
       "10        Java                   3862\n",
       "11         C++                   4549\n",
       "12           R                   4571\n",
       "13         SQL                   9620\n",
       "14      Python                  18653"
      ]
     },
     "execution_count": 189,
     "metadata": {},
     "output_type": "execute_result"
    }
   ],
   "source": [
    "#querying the database to retrieve the required data and converting it into a dataframe\n",
    "df_pl = pd.read_sql_query(\n",
    "    \"\"\"\n",
    "    SELECT l.language, COUNT(k.respondent_id) AS Number_of_Respondents\n",
    "    FROM kaggle_respondents_info k\n",
    "    JOIN respondents_programming_languages r ON (r.respondent_id = k.respondent_id)\n",
    "    JOIN programming_languages l ON (l.language_id = r.language_id)\n",
    "    GROUP BY language\n",
    "    ORDER BY Number_of_Respondents\n",
    "    \"\"\", mydb)\n",
    "df_pl"
   ]
  },
  {
   "cell_type": "code",
   "execution_count": 190,
   "id": "b6b1a5e5",
   "metadata": {},
   "outputs": [],
   "source": [
    "#removing the 'None' row\n",
    "df_pl = df_pl.drop(index=[0])\n",
    "df_pl.reset_index(inplace=True)"
   ]
  },
  {
   "cell_type": "code",
   "execution_count": 191,
   "id": "1e9a9a32",
   "metadata": {},
   "outputs": [],
   "source": [
    "#adding a percentage column\n",
    "total = df_pl['Number_of_Respondents'].sum()\n",
    "pct = []\n",
    "for i in range(df_pl.shape[0]):\n",
    "    p = (df_pl['Number_of_Respondents'][i] / total) * 100\n",
    "    pct.append(round(p, 2))\n",
    "df_pl['percentages'] = pct"
   ]
  },
  {
   "cell_type": "code",
   "execution_count": 192,
   "id": "b3e55b10",
   "metadata": {},
   "outputs": [],
   "source": [
    "#Sorting in descending order\n",
    "df_pl = df_pl.sort_values(by=['percentages'], ascending=False)\n",
    "df_pl.reset_index(inplace=True)\n",
    "del df_pl['index']"
   ]
  },
  {
   "cell_type": "code",
   "execution_count": 193,
   "id": "c52e3e12",
   "metadata": {},
   "outputs": [
    {
     "data": {
      "text/html": [
       "<div>\n",
       "<style scoped>\n",
       "    .dataframe tbody tr th:only-of-type {\n",
       "        vertical-align: middle;\n",
       "    }\n",
       "\n",
       "    .dataframe tbody tr th {\n",
       "        vertical-align: top;\n",
       "    }\n",
       "\n",
       "    .dataframe thead th {\n",
       "        text-align: right;\n",
       "    }\n",
       "</style>\n",
       "<table border=\"1\" class=\"dataframe\">\n",
       "  <thead>\n",
       "    <tr style=\"text-align: right;\">\n",
       "      <th></th>\n",
       "      <th>level_0</th>\n",
       "      <th>language</th>\n",
       "      <th>Number_of_Respondents</th>\n",
       "      <th>percentages</th>\n",
       "    </tr>\n",
       "  </thead>\n",
       "  <tbody>\n",
       "    <tr>\n",
       "      <th>4</th>\n",
       "      <td>9</td>\n",
       "      <td>Java</td>\n",
       "      <td>3862</td>\n",
       "      <td>6.71</td>\n",
       "    </tr>\n",
       "    <tr>\n",
       "      <th>3</th>\n",
       "      <td>10</td>\n",
       "      <td>C++</td>\n",
       "      <td>4549</td>\n",
       "      <td>7.91</td>\n",
       "    </tr>\n",
       "    <tr>\n",
       "      <th>2</th>\n",
       "      <td>11</td>\n",
       "      <td>R</td>\n",
       "      <td>4571</td>\n",
       "      <td>7.94</td>\n",
       "    </tr>\n",
       "    <tr>\n",
       "      <th>1</th>\n",
       "      <td>12</td>\n",
       "      <td>SQL</td>\n",
       "      <td>9620</td>\n",
       "      <td>16.72</td>\n",
       "    </tr>\n",
       "    <tr>\n",
       "      <th>0</th>\n",
       "      <td>13</td>\n",
       "      <td>Python</td>\n",
       "      <td>18653</td>\n",
       "      <td>32.42</td>\n",
       "    </tr>\n",
       "  </tbody>\n",
       "</table>\n",
       "</div>"
      ],
      "text/plain": [
       "   level_0 language  Number_of_Respondents  percentages\n",
       "4        9     Java                   3862         6.71\n",
       "3       10      C++                   4549         7.91\n",
       "2       11        R                   4571         7.94\n",
       "1       12      SQL                   9620        16.72\n",
       "0       13   Python                  18653        32.42"
      ]
     },
     "execution_count": 193,
     "metadata": {},
     "output_type": "execute_result"
    }
   ],
   "source": [
    "#Taking the first five and sorting them again in ascending order\n",
    "df_pl = df_pl.head(5)\n",
    "df_pl = df_pl.sort_values(by=['percentages'], ascending=True)\n",
    "df_pl"
   ]
  },
  {
   "cell_type": "code",
   "execution_count": 204,
   "id": "8577ab9f",
   "metadata": {},
   "outputs": [],
   "source": [
    "#function\n",
    "def my_bar(my_xdata, my_ydata, my_label, my_pct, my_title):\n",
    "    plt.figure(figsize=(5,5))\n",
    "    colors_list = [\"teal\", \"orange\", \"crimson\", \"orangered\", \"limegreen\"]\n",
    "    graph = plt.barh(my_xdata, my_ydata, color = colors_list, \n",
    "                    label = my_label)\n",
    "    plt.title(my_title)\n",
    "    plt.xticks(color = 'w')\n",
    "    i = 4\n",
    "    for p in graph:\n",
    "        width = p.get_width()\n",
    "        height = p.get_height()\n",
    "        x, y = p.get_xy()\n",
    "        plt.text(x+width/1.0,\n",
    "                 y+height*0.3,\n",
    "                 str(my_pct[i])+'%', ha='left')\n",
    "        i-=1\n",
    "    plt.show()"
   ]
  },
  {
   "cell_type": "code",
   "execution_count": 205,
   "id": "f6f4b61e",
   "metadata": {},
   "outputs": [
    {
     "data": {
      "image/png": "[encoded data removed]",
      "text/plain": [
       "<Figure size 500x500 with 1 Axes>"
      ]
     },
     "metadata": {},
     "output_type": "display_data"
    }
   ],
   "source": [
    "#Creating my chart\n",
    "my_bar(df_pl['language'], df_pl['Number_of_Respondents'], df_pl['language'], \n",
    "       df_pl['percentages'], 'Top 5 Programming Languages')"
   ]
  },
  {
   "cell_type": "markdown",
   "id": "a554b1d6",
   "metadata": {},
   "source": [
    "### Intergrated Development Environments IDEs"
   ]
  },
  {
   "cell_type": "code",
   "execution_count": 182,
   "id": "24ede431",
   "metadata": {},
   "outputs": [
    {
     "name": "stderr",
     "output_type": "stream",
     "text": [
      "C:\\Users\\King Solo\\AppData\\Local\\Temp\\ipykernel_6108\\92769501.py:2: UserWarning: pandas only supports SQLAlchemy connectable (engine/connection) or database string URI or sqlite3 DBAPI2 connection. Other DBAPI2 objects are not tested. Please consider using SQLAlchemy.\n",
      "  df_ide = pd.read_sql_query(\n"
     ]
    },
    {
     "data": {
      "text/html": [
       "<div>\n",
       "<style scoped>\n",
       "    .dataframe tbody tr th:only-of-type {\n",
       "        vertical-align: middle;\n",
       "    }\n",
       "\n",
       "    .dataframe tbody tr th {\n",
       "        vertical-align: top;\n",
       "    }\n",
       "\n",
       "    .dataframe thead th {\n",
       "        text-align: right;\n",
       "    }\n",
       "</style>\n",
       "<table border=\"1\" class=\"dataframe\">\n",
       "  <thead>\n",
       "    <tr style=\"text-align: right;\">\n",
       "      <th></th>\n",
       "      <th>IDE</th>\n",
       "      <th>Number_of_Respondents</th>\n",
       "    </tr>\n",
       "  </thead>\n",
       "  <tbody>\n",
       "    <tr>\n",
       "      <th>0</th>\n",
       "      <td>None</td>\n",
       "      <td>409</td>\n",
       "    </tr>\n",
       "    <tr>\n",
       "      <th>1</th>\n",
       "      <td>Vim / Emacs</td>\n",
       "      <td>1448</td>\n",
       "    </tr>\n",
       "    <tr>\n",
       "      <th>2</th>\n",
       "      <td>Other</td>\n",
       "      <td>1474</td>\n",
       "    </tr>\n",
       "    <tr>\n",
       "      <th>3</th>\n",
       "      <td>IntelliJ</td>\n",
       "      <td>1612</td>\n",
       "    </tr>\n",
       "    <tr>\n",
       "      <th>4</th>\n",
       "      <td>Sublime Text</td>\n",
       "      <td>2218</td>\n",
       "    </tr>\n",
       "    <tr>\n",
       "      <th>5</th>\n",
       "      <td>MATLAB</td>\n",
       "      <td>2302</td>\n",
       "    </tr>\n",
       "    <tr>\n",
       "      <th>6</th>\n",
       "      <td>Spyder</td>\n",
       "      <td>2880</td>\n",
       "    </tr>\n",
       "    <tr>\n",
       "      <th>7</th>\n",
       "      <td>RStudio</td>\n",
       "      <td>3824</td>\n",
       "    </tr>\n",
       "    <tr>\n",
       "      <th>8</th>\n",
       "      <td>Notepad++</td>\n",
       "      <td>3891</td>\n",
       "    </tr>\n",
       "    <tr>\n",
       "      <th>9</th>\n",
       "      <td>Visual Studio</td>\n",
       "      <td>4416</td>\n",
       "    </tr>\n",
       "    <tr>\n",
       "      <th>10</th>\n",
       "      <td>JupyterLab</td>\n",
       "      <td>4887</td>\n",
       "    </tr>\n",
       "    <tr>\n",
       "      <th>11</th>\n",
       "      <td>PyCharm</td>\n",
       "      <td>6099</td>\n",
       "    </tr>\n",
       "    <tr>\n",
       "      <th>12</th>\n",
       "      <td>Visual Studio Code (VSCode)</td>\n",
       "      <td>9976</td>\n",
       "    </tr>\n",
       "    <tr>\n",
       "      <th>13</th>\n",
       "      <td>Jupyter Notebook</td>\n",
       "      <td>13684</td>\n",
       "    </tr>\n",
       "  </tbody>\n",
       "</table>\n",
       "</div>"
      ],
      "text/plain": [
       "                              IDE  Number_of_Respondents\n",
       "0                            None                    409\n",
       "1                   Vim / Emacs                     1448\n",
       "2                           Other                   1474\n",
       "3                        IntelliJ                   1612\n",
       "4                  Sublime Text                     2218\n",
       "5                         MATLAB                    2302\n",
       "6                        Spyder                     2880\n",
       "7                        RStudio                    3824\n",
       "8                     Notepad++                     3891\n",
       "9                  Visual Studio                    4416\n",
       "10                    JupyterLab                    4887\n",
       "11                       PyCharm                    6099\n",
       "12   Visual Studio Code (VSCode)                    9976\n",
       "13               Jupyter Notebook                  13684"
      ]
     },
     "execution_count": 182,
     "metadata": {},
     "output_type": "execute_result"
    }
   ],
   "source": [
    "#querying the database to retrieve the required data and converting it into a dataframe\n",
    "df_ide = pd.read_sql_query(\n",
    "    \"\"\"\n",
    "    SELECT i.IDE, COUNT(k.respondent_id) AS Number_of_Respondents\n",
    "    FROM kaggle_respondents_info k\n",
    "    JOIN respondents_IDEs r ON (r.respondent_id = k.respondent_id)\n",
    "    JOIN IDEs i ON (i.IDE_id = r.IDE_id)\n",
    "    GROUP BY IDE\n",
    "    ORDER BY Number_of_Respondents\n",
    "    \"\"\", mydb)\n",
    "df_ide"
   ]
  },
  {
   "cell_type": "code",
   "execution_count": 183,
   "id": "6eac9689",
   "metadata": {},
   "outputs": [],
   "source": [
    "#removing the 'None' row\n",
    "df_ide = df_ide.drop(index=[0])\n",
    "df_ide.reset_index(inplace=True)\n",
    "del df_ide['index']"
   ]
  },
  {
   "cell_type": "code",
   "execution_count": 184,
   "id": "114cc8c8",
   "metadata": {},
   "outputs": [],
   "source": [
    "#adding a percentage column\n",
    "total = df_ide['Number_of_Respondents'].sum()\n",
    "pct = []\n",
    "for i in range(df_ide.shape[0]):\n",
    "    p = (df_ide['Number_of_Respondents'][i] / total) * 100\n",
    "    pct.append(round(p, 2))\n",
    "df_ide['percentages'] = pct"
   ]
  },
  {
   "cell_type": "code",
   "execution_count": 185,
   "id": "a582177a",
   "metadata": {},
   "outputs": [],
   "source": [
    "#Sorting in descending order\n",
    "df_ide = df_ide.sort_values(by=['percentages'], ascending=False)\n",
    "df_ide.reset_index(inplace=True)\n",
    "del df_ide['index']"
   ]
  },
  {
   "cell_type": "code",
   "execution_count": 186,
   "id": "a46fe278",
   "metadata": {},
   "outputs": [
    {
     "data": {
      "text/html": [
       "<div>\n",
       "<style scoped>\n",
       "    .dataframe tbody tr th:only-of-type {\n",
       "        vertical-align: middle;\n",
       "    }\n",
       "\n",
       "    .dataframe tbody tr th {\n",
       "        vertical-align: top;\n",
       "    }\n",
       "\n",
       "    .dataframe thead th {\n",
       "        text-align: right;\n",
       "    }\n",
       "</style>\n",
       "<table border=\"1\" class=\"dataframe\">\n",
       "  <thead>\n",
       "    <tr style=\"text-align: right;\">\n",
       "      <th></th>\n",
       "      <th>IDE</th>\n",
       "      <th>Number_of_Respondents</th>\n",
       "      <th>percentages</th>\n",
       "    </tr>\n",
       "  </thead>\n",
       "  <tbody>\n",
       "    <tr>\n",
       "      <th>4</th>\n",
       "      <td>Visual Studio</td>\n",
       "      <td>4416</td>\n",
       "      <td>7.52</td>\n",
       "    </tr>\n",
       "    <tr>\n",
       "      <th>3</th>\n",
       "      <td>JupyterLab</td>\n",
       "      <td>4887</td>\n",
       "      <td>8.32</td>\n",
       "    </tr>\n",
       "    <tr>\n",
       "      <th>2</th>\n",
       "      <td>PyCharm</td>\n",
       "      <td>6099</td>\n",
       "      <td>10.39</td>\n",
       "    </tr>\n",
       "    <tr>\n",
       "      <th>1</th>\n",
       "      <td>Visual Studio Code (VSCode)</td>\n",
       "      <td>9976</td>\n",
       "      <td>16.99</td>\n",
       "    </tr>\n",
       "    <tr>\n",
       "      <th>0</th>\n",
       "      <td>Jupyter Notebook</td>\n",
       "      <td>13684</td>\n",
       "      <td>23.31</td>\n",
       "    </tr>\n",
       "  </tbody>\n",
       "</table>\n",
       "</div>"
      ],
      "text/plain": [
       "                             IDE  Number_of_Respondents  percentages\n",
       "4                 Visual Studio                    4416         7.52\n",
       "3                    JupyterLab                    4887         8.32\n",
       "2                       PyCharm                    6099        10.39\n",
       "1   Visual Studio Code (VSCode)                    9976        16.99\n",
       "0               Jupyter Notebook                  13684        23.31"
      ]
     },
     "execution_count": 186,
     "metadata": {},
     "output_type": "execute_result"
    }
   ],
   "source": [
    "#Taking the first five and sorting them again in ascending order\n",
    "df_ide = df_ide.head(5)\n",
    "df_ide = df_ide.sort_values(by=['percentages'], ascending=True)\n",
    "df_ide"
   ]
  },
  {
   "cell_type": "code",
   "execution_count": 206,
   "id": "dfd0fd1c",
   "metadata": {},
   "outputs": [
    {
     "data": {
      "image/png": "[encoded data removed]",
      "text/plain": [
       "<Figure size 500x500 with 1 Axes>"
      ]
     },
     "metadata": {},
     "output_type": "display_data"
    }
   ],
   "source": [
    "#Creating my chart\n",
    "my_bar(df_ide['IDE'], df_ide['Number_of_Respondents'], df_ide['IDE'], \n",
    "       df_ide['percentages'], 'Top 5 IDEs')"
   ]
  },
  {
   "cell_type": "markdown",
   "id": "a48dda2e",
   "metadata": {},
   "source": [
    "### Data Visualization Libraries"
   ]
  },
  {
   "cell_type": "code",
   "execution_count": 215,
   "id": "81339312",
   "metadata": {},
   "outputs": [
    {
     "name": "stderr",
     "output_type": "stream",
     "text": [
      "C:\\Users\\King Solo\\AppData\\Local\\Temp\\ipykernel_6108\\2558564854.py:2: UserWarning: pandas only supports SQLAlchemy connectable (engine/connection) or database string URI or sqlite3 DBAPI2 connection. Other DBAPI2 objects are not tested. Please consider using SQLAlchemy.\n",
      "  df_d = pd.read_sql_query(\n"
     ]
    },
    {
     "data": {
      "text/html": [
       "<div>\n",
       "<style scoped>\n",
       "    .dataframe tbody tr th:only-of-type {\n",
       "        vertical-align: middle;\n",
       "    }\n",
       "\n",
       "    .dataframe tbody tr th {\n",
       "        vertical-align: top;\n",
       "    }\n",
       "\n",
       "    .dataframe thead th {\n",
       "        text-align: right;\n",
       "    }\n",
       "</style>\n",
       "<table border=\"1\" class=\"dataframe\">\n",
       "  <thead>\n",
       "    <tr style=\"text-align: right;\">\n",
       "      <th></th>\n",
       "      <th>library</th>\n",
       "      <th>Number_of_Respondents</th>\n",
       "    </tr>\n",
       "  </thead>\n",
       "  <tbody>\n",
       "    <tr>\n",
       "      <th>0</th>\n",
       "      <td>Highcharter</td>\n",
       "      <td>198</td>\n",
       "    </tr>\n",
       "    <tr>\n",
       "      <th>1</th>\n",
       "      <td>Dygraphs</td>\n",
       "      <td>225</td>\n",
       "    </tr>\n",
       "    <tr>\n",
       "      <th>2</th>\n",
       "      <td>Altair</td>\n",
       "      <td>300</td>\n",
       "    </tr>\n",
       "    <tr>\n",
       "      <th>3</th>\n",
       "      <td>Pygal</td>\n",
       "      <td>318</td>\n",
       "    </tr>\n",
       "    <tr>\n",
       "      <th>4</th>\n",
       "      <td>Leaflet / Folium</td>\n",
       "      <td>554</td>\n",
       "    </tr>\n",
       "    <tr>\n",
       "      <th>5</th>\n",
       "      <td>Other</td>\n",
       "      <td>691</td>\n",
       "    </tr>\n",
       "    <tr>\n",
       "      <th>6</th>\n",
       "      <td>D3 js</td>\n",
       "      <td>734</td>\n",
       "    </tr>\n",
       "    <tr>\n",
       "      <th>7</th>\n",
       "      <td>Bokeh</td>\n",
       "      <td>771</td>\n",
       "    </tr>\n",
       "    <tr>\n",
       "      <th>8</th>\n",
       "      <td>Shiny</td>\n",
       "      <td>1043</td>\n",
       "    </tr>\n",
       "    <tr>\n",
       "      <th>9</th>\n",
       "      <td>Geoplotlib</td>\n",
       "      <td>1167</td>\n",
       "    </tr>\n",
       "    <tr>\n",
       "      <th>10</th>\n",
       "      <td>None</td>\n",
       "      <td>3439</td>\n",
       "    </tr>\n",
       "    <tr>\n",
       "      <th>11</th>\n",
       "      <td>Ggplot / ggplot2</td>\n",
       "      <td>4145</td>\n",
       "    </tr>\n",
       "    <tr>\n",
       "      <th>12</th>\n",
       "      <td>Plotly / Plotly Express</td>\n",
       "      <td>5078</td>\n",
       "    </tr>\n",
       "    <tr>\n",
       "      <th>13</th>\n",
       "      <td>Seaborn</td>\n",
       "      <td>10512</td>\n",
       "    </tr>\n",
       "    <tr>\n",
       "      <th>14</th>\n",
       "      <td>Matplotlib</td>\n",
       "      <td>14010</td>\n",
       "    </tr>\n",
       "  </tbody>\n",
       "</table>\n",
       "</div>"
      ],
      "text/plain": [
       "                      library  Number_of_Respondents\n",
       "0                Highcharter                     198\n",
       "1                   Dygraphs                     225\n",
       "2                     Altair                     300\n",
       "3                      Pygal                     318\n",
       "4           Leaflet / Folium                     554\n",
       "5                       Other                    691\n",
       "6                      D3 js                     734\n",
       "7                      Bokeh                     771\n",
       "8                      Shiny                    1043\n",
       "9                 Geoplotlib                    1167\n",
       "10                       None                   3439\n",
       "11          Ggplot / ggplot2                    4145\n",
       "12   Plotly / Plotly Express                    5078\n",
       "13                   Seaborn                   10512\n",
       "14                Matplotlib                   14010"
      ]
     },
     "execution_count": 215,
     "metadata": {},
     "output_type": "execute_result"
    }
   ],
   "source": [
    "#querying the database to retrieve the required data and converting it into a dataframe\n",
    "df_d = pd.read_sql_query(\n",
    "    \"\"\"\n",
    "    SELECT d.library, COUNT(k.respondent_id) AS Number_of_Respondents\n",
    "    FROM kaggle_respondents_info k\n",
    "    JOIN respondents_dataviz_libs r ON (r.respondent_id = k.respondent_id)\n",
    "    JOIN dataviz_libs d ON (d.library_id = r.library_id)\n",
    "    GROUP BY library\n",
    "    ORDER BY Number_of_Respondents\n",
    "    \"\"\", mydb)\n",
    "df_d"
   ]
  },
  {
   "cell_type": "code",
   "execution_count": 216,
   "id": "77622dd3",
   "metadata": {},
   "outputs": [],
   "source": [
    "#removing the 'None' row\n",
    "df_d = df_d.drop(index=[10])\n",
    "df_d.reset_index(inplace=True)\n",
    "del df_d['index']"
   ]
  },
  {
   "cell_type": "code",
   "execution_count": 217,
   "id": "6d5a75e3",
   "metadata": {},
   "outputs": [],
   "source": [
    "#adding a percentage column\n",
    "total = df_d['Number_of_Respondents'].sum()\n",
    "pct = []\n",
    "for i in range(df_d.shape[0]):\n",
    "    p = (df_d['Number_of_Respondents'][i] / total) * 100\n",
    "    pct.append(round(p, 2))\n",
    "df_d['percentages'] = pct"
   ]
  },
  {
   "cell_type": "code",
   "execution_count": 218,
   "id": "fb637ca8",
   "metadata": {},
   "outputs": [],
   "source": [
    "#Sorting in descending order\n",
    "df_d = df_d.sort_values(by=['percentages'], ascending=False)\n",
    "df_d.reset_index(inplace=True)\n",
    "del df_d['index']"
   ]
  },
  {
   "cell_type": "code",
   "execution_count": 219,
   "id": "ac139508",
   "metadata": {},
   "outputs": [
    {
     "data": {
      "text/html": [
       "<div>\n",
       "<style scoped>\n",
       "    .dataframe tbody tr th:only-of-type {\n",
       "        vertical-align: middle;\n",
       "    }\n",
       "\n",
       "    .dataframe tbody tr th {\n",
       "        vertical-align: top;\n",
       "    }\n",
       "\n",
       "    .dataframe thead th {\n",
       "        text-align: right;\n",
       "    }\n",
       "</style>\n",
       "<table border=\"1\" class=\"dataframe\">\n",
       "  <thead>\n",
       "    <tr style=\"text-align: right;\">\n",
       "      <th></th>\n",
       "      <th>library</th>\n",
       "      <th>Number_of_Respondents</th>\n",
       "      <th>percentages</th>\n",
       "    </tr>\n",
       "  </thead>\n",
       "  <tbody>\n",
       "    <tr>\n",
       "      <th>4</th>\n",
       "      <td>Geoplotlib</td>\n",
       "      <td>1167</td>\n",
       "      <td>2.94</td>\n",
       "    </tr>\n",
       "    <tr>\n",
       "      <th>3</th>\n",
       "      <td>Ggplot / ggplot2</td>\n",
       "      <td>4145</td>\n",
       "      <td>10.43</td>\n",
       "    </tr>\n",
       "    <tr>\n",
       "      <th>2</th>\n",
       "      <td>Plotly / Plotly Express</td>\n",
       "      <td>5078</td>\n",
       "      <td>12.78</td>\n",
       "    </tr>\n",
       "    <tr>\n",
       "      <th>1</th>\n",
       "      <td>Seaborn</td>\n",
       "      <td>10512</td>\n",
       "      <td>26.45</td>\n",
       "    </tr>\n",
       "    <tr>\n",
       "      <th>0</th>\n",
       "      <td>Matplotlib</td>\n",
       "      <td>14010</td>\n",
       "      <td>35.25</td>\n",
       "    </tr>\n",
       "  </tbody>\n",
       "</table>\n",
       "</div>"
      ],
      "text/plain": [
       "                     library  Number_of_Respondents  percentages\n",
       "4                Geoplotlib                    1167         2.94\n",
       "3          Ggplot / ggplot2                    4145        10.43\n",
       "2   Plotly / Plotly Express                    5078        12.78\n",
       "1                   Seaborn                   10512        26.45\n",
       "0                Matplotlib                   14010        35.25"
      ]
     },
     "execution_count": 219,
     "metadata": {},
     "output_type": "execute_result"
    }
   ],
   "source": [
    "#Taking the first five and sorting them again in ascending order\n",
    "df_d = df_d.head(5)\n",
    "df_d = df_d.sort_values(by=['percentages'], ascending=True)\n",
    "df_d"
   ]
  },
  {
   "cell_type": "code",
   "execution_count": 207,
   "id": "e38bb10f",
   "metadata": {},
   "outputs": [
    {
     "data": {
      "image/png": "[encoded data removed]",
      "text/plain": [
       "<Figure size 500x500 with 1 Axes>"
      ]
     },
     "metadata": {},
     "output_type": "display_data"
    }
   ],
   "source": [
    "#Creating my chart\n",
    "my_bar(df_d['library'], df_d['Number_of_Respondents'], df_d['library'], \n",
    "       df_d['percentages'], 'Top 5 Data Visualizatin Libraries')"
   ]
  },
  {
   "cell_type": "markdown",
   "id": "6b60afb1",
   "metadata": {},
   "source": [
    "### Data Products"
   ]
  },
  {
   "cell_type": "code",
   "execution_count": 208,
   "id": "a939f1ba",
   "metadata": {},
   "outputs": [
    {
     "name": "stderr",
     "output_type": "stream",
     "text": [
      "C:\\Users\\King Solo\\AppData\\Local\\Temp\\ipykernel_6108\\1744807332.py:2: UserWarning: pandas only supports SQLAlchemy connectable (engine/connection) or database string URI or sqlite3 DBAPI2 connection. Other DBAPI2 objects are not tested. Please consider using SQLAlchemy.\n",
      "  df_pr = pd.read_sql_query(\n"
     ]
    },
    {
     "data": {
      "text/html": [
       "<div>\n",
       "<style scoped>\n",
       "    .dataframe tbody tr th:only-of-type {\n",
       "        vertical-align: middle;\n",
       "    }\n",
       "\n",
       "    .dataframe tbody tr th {\n",
       "        vertical-align: top;\n",
       "    }\n",
       "\n",
       "    .dataframe thead th {\n",
       "        text-align: right;\n",
       "    }\n",
       "</style>\n",
       "<table border=\"1\" class=\"dataframe\">\n",
       "  <thead>\n",
       "    <tr style=\"text-align: right;\">\n",
       "      <th></th>\n",
       "      <th>data_product</th>\n",
       "      <th>Number_of_Respondents</th>\n",
       "    </tr>\n",
       "  </thead>\n",
       "  <tbody>\n",
       "    <tr>\n",
       "      <th>0</th>\n",
       "      <td>IBM Db2</td>\n",
       "      <td>192</td>\n",
       "    </tr>\n",
       "    <tr>\n",
       "      <th>1</th>\n",
       "      <td>Other</td>\n",
       "      <td>217</td>\n",
       "    </tr>\n",
       "    <tr>\n",
       "      <th>2</th>\n",
       "      <td>Amazon DynamoDB</td>\n",
       "      <td>356</td>\n",
       "    </tr>\n",
       "    <tr>\n",
       "      <th>3</th>\n",
       "      <td>Amazon Redshift</td>\n",
       "      <td>380</td>\n",
       "    </tr>\n",
       "    <tr>\n",
       "      <th>4</th>\n",
       "      <td>Snowflake</td>\n",
       "      <td>399</td>\n",
       "    </tr>\n",
       "    <tr>\n",
       "      <th>5</th>\n",
       "      <td>Google Cloud SQL</td>\n",
       "      <td>439</td>\n",
       "    </tr>\n",
       "    <tr>\n",
       "      <th>6</th>\n",
       "      <td>Amazon RDS</td>\n",
       "      <td>505</td>\n",
       "    </tr>\n",
       "    <tr>\n",
       "      <th>7</th>\n",
       "      <td>Microsoft Azure SQL Database</td>\n",
       "      <td>520</td>\n",
       "    </tr>\n",
       "    <tr>\n",
       "      <th>8</th>\n",
       "      <td>Oracle Database</td>\n",
       "      <td>688</td>\n",
       "    </tr>\n",
       "    <tr>\n",
       "      <th>9</th>\n",
       "      <td>Google Cloud BigQuery</td>\n",
       "      <td>690</td>\n",
       "    </tr>\n",
       "    <tr>\n",
       "      <th>10</th>\n",
       "      <td>None</td>\n",
       "      <td>955</td>\n",
       "    </tr>\n",
       "    <tr>\n",
       "      <th>11</th>\n",
       "      <td>MongoDB</td>\n",
       "      <td>1031</td>\n",
       "    </tr>\n",
       "    <tr>\n",
       "      <th>12</th>\n",
       "      <td>SQLite</td>\n",
       "      <td>1159</td>\n",
       "    </tr>\n",
       "    <tr>\n",
       "      <th>13</th>\n",
       "      <td>Microsoft SQL Server</td>\n",
       "      <td>1203</td>\n",
       "    </tr>\n",
       "    <tr>\n",
       "      <th>14</th>\n",
       "      <td>PostgreSQL</td>\n",
       "      <td>1516</td>\n",
       "    </tr>\n",
       "    <tr>\n",
       "      <th>15</th>\n",
       "      <td>MySQL</td>\n",
       "      <td>2233</td>\n",
       "    </tr>\n",
       "  </tbody>\n",
       "</table>\n",
       "</div>"
      ],
      "text/plain": [
       "                     data_product  Number_of_Respondents\n",
       "0                        IBM Db2                     192\n",
       "1                           Other                    217\n",
       "2                Amazon DynamoDB                     356\n",
       "3                Amazon Redshift                     380\n",
       "4                      Snowflake                     399\n",
       "5               Google Cloud SQL                     439\n",
       "6                     Amazon RDS                     505\n",
       "7   Microsoft Azure SQL Database                     520\n",
       "8                Oracle Database                     688\n",
       "9          Google Cloud BigQuery                     690\n",
       "10                           None                    955\n",
       "11                       MongoDB                    1031\n",
       "12                        SQLite                    1159\n",
       "13          Microsoft SQL Server                    1203\n",
       "14                    PostgreSQL                    1516\n",
       "15                         MySQL                    2233"
      ]
     },
     "execution_count": 208,
     "metadata": {},
     "output_type": "execute_result"
    }
   ],
   "source": [
    "#querying the database to retrieve the required data and converting it into a dataframe\n",
    "df_pr = pd.read_sql_query(\n",
    "    \"\"\"\n",
    "    SELECT d.data_product, COUNT(k.respondent_id) AS Number_of_Respondents\n",
    "    FROM kaggle_respondents_info k\n",
    "    JOIN respondents_data_products r ON (r.respondent_id = k.respondent_id)\n",
    "    JOIN data_products d ON (d.data_product_id = r.data_product_id)\n",
    "    GROUP BY data_product\n",
    "    ORDER BY Number_of_Respondents\n",
    "    \"\"\", mydb)\n",
    "df_pr"
   ]
  },
  {
   "cell_type": "code",
   "execution_count": 209,
   "id": "4953cb74",
   "metadata": {},
   "outputs": [],
   "source": [
    "#removing the 'None' row\n",
    "df_pr = df_pr.drop(index=[10])\n",
    "df_pr.reset_index(inplace=True)\n",
    "del df_pr['index']"
   ]
  },
  {
   "cell_type": "code",
   "execution_count": 210,
   "id": "e0764b84",
   "metadata": {},
   "outputs": [],
   "source": [
    "#adding a percentage column\n",
    "total = df_pr['Number_of_Respondents'].sum()\n",
    "pct = []\n",
    "for i in range(df_pr.shape[0]):\n",
    "    p = (df_pr['Number_of_Respondents'][i] / total) * 100\n",
    "    pct.append(round(p, 2))\n",
    "df_pr['percentages'] = pct"
   ]
  },
  {
   "cell_type": "code",
   "execution_count": 211,
   "id": "9df13ef0",
   "metadata": {},
   "outputs": [],
   "source": [
    "#Sorting in descending order\n",
    "df_pr = df_pr.sort_values(by=['percentages'], ascending=False)\n",
    "df_pr.reset_index(inplace=True)\n",
    "del df_pr['index']"
   ]
  },
  {
   "cell_type": "code",
   "execution_count": 212,
   "id": "d0efc660",
   "metadata": {},
   "outputs": [
    {
     "data": {
      "text/html": [
       "<div>\n",
       "<style scoped>\n",
       "    .dataframe tbody tr th:only-of-type {\n",
       "        vertical-align: middle;\n",
       "    }\n",
       "\n",
       "    .dataframe tbody tr th {\n",
       "        vertical-align: top;\n",
       "    }\n",
       "\n",
       "    .dataframe thead th {\n",
       "        text-align: right;\n",
       "    }\n",
       "</style>\n",
       "<table border=\"1\" class=\"dataframe\">\n",
       "  <thead>\n",
       "    <tr style=\"text-align: right;\">\n",
       "      <th></th>\n",
       "      <th>data_product</th>\n",
       "      <th>Number_of_Respondents</th>\n",
       "      <th>percentages</th>\n",
       "    </tr>\n",
       "  </thead>\n",
       "  <tbody>\n",
       "    <tr>\n",
       "      <th>4</th>\n",
       "      <td>MongoDB</td>\n",
       "      <td>1031</td>\n",
       "      <td>8.94</td>\n",
       "    </tr>\n",
       "    <tr>\n",
       "      <th>3</th>\n",
       "      <td>SQLite</td>\n",
       "      <td>1159</td>\n",
       "      <td>10.05</td>\n",
       "    </tr>\n",
       "    <tr>\n",
       "      <th>2</th>\n",
       "      <td>Microsoft SQL Server</td>\n",
       "      <td>1203</td>\n",
       "      <td>10.44</td>\n",
       "    </tr>\n",
       "    <tr>\n",
       "      <th>1</th>\n",
       "      <td>PostgreSQL</td>\n",
       "      <td>1516</td>\n",
       "      <td>13.15</td>\n",
       "    </tr>\n",
       "    <tr>\n",
       "      <th>0</th>\n",
       "      <td>MySQL</td>\n",
       "      <td>2233</td>\n",
       "      <td>19.37</td>\n",
       "    </tr>\n",
       "  </tbody>\n",
       "</table>\n",
       "</div>"
      ],
      "text/plain": [
       "            data_product  Number_of_Respondents  percentages\n",
       "4               MongoDB                    1031         8.94\n",
       "3                SQLite                    1159        10.05\n",
       "2  Microsoft SQL Server                    1203        10.44\n",
       "1            PostgreSQL                    1516        13.15\n",
       "0                 MySQL                    2233        19.37"
      ]
     },
     "execution_count": 212,
     "metadata": {},
     "output_type": "execute_result"
    }
   ],
   "source": [
    "#Taking the first five and sorting them again in ascending order\n",
    "df_pr = df_pr.head(5)\n",
    "df_pr = df_pr.sort_values(by=['percentages'], ascending=True)\n",
    "df_pr"
   ]
  },
  {
   "cell_type": "code",
   "execution_count": 213,
   "id": "02724b1a",
   "metadata": {},
   "outputs": [
    {
     "data": {
      "image/png": "[encoded data removed]",
      "text/plain": [
       "<Figure size 500x500 with 1 Axes>"
      ]
     },
     "metadata": {},
     "output_type": "display_data"
    }
   ],
   "source": [
    "#Creating my chart\n",
    "my_bar(df_pr['data_product'], df_pr['Number_of_Respondents'], df_pr['data_product'], \n",
    "       df_pr['percentages'], 'Top 5 Databases')"
   ]
  },
  {
   "cell_type": "markdown",
   "id": "20f5ddb5",
   "metadata": {},
   "source": [
    "### Business Intelligence Tools"
   ]
  },
  {
   "cell_type": "code",
   "execution_count": 231,
   "id": "2e54e61c",
   "metadata": {},
   "outputs": [
    {
     "name": "stderr",
     "output_type": "stream",
     "text": [
      "C:\\Users\\King Solo\\AppData\\Local\\Temp\\ipykernel_6108\\291087128.py:2: UserWarning: pandas only supports SQLAlchemy connectable (engine/connection) or database string URI or sqlite3 DBAPI2 connection. Other DBAPI2 objects are not tested. Please consider using SQLAlchemy.\n",
      "  df_bi = pd.read_sql_query(\n"
     ]
    },
    {
     "data": {
      "text/html": [
       "<div>\n",
       "<style scoped>\n",
       "    .dataframe tbody tr th:only-of-type {\n",
       "        vertical-align: middle;\n",
       "    }\n",
       "\n",
       "    .dataframe tbody tr th {\n",
       "        vertical-align: top;\n",
       "    }\n",
       "\n",
       "    .dataframe thead th {\n",
       "        text-align: right;\n",
       "    }\n",
       "</style>\n",
       "<table border=\"1\" class=\"dataframe\">\n",
       "  <thead>\n",
       "    <tr style=\"text-align: right;\">\n",
       "      <th></th>\n",
       "      <th>bi_tool</th>\n",
       "      <th>Number_of_Respondents</th>\n",
       "    </tr>\n",
       "  </thead>\n",
       "  <tbody>\n",
       "    <tr>\n",
       "      <th>0</th>\n",
       "      <td>Thoughtspot</td>\n",
       "      <td>22</td>\n",
       "    </tr>\n",
       "    <tr>\n",
       "      <th>1</th>\n",
       "      <td>Sisense</td>\n",
       "      <td>38</td>\n",
       "    </tr>\n",
       "    <tr>\n",
       "      <th>2</th>\n",
       "      <td>Domo</td>\n",
       "      <td>44</td>\n",
       "    </tr>\n",
       "    <tr>\n",
       "      <th>3</th>\n",
       "      <td>TIBCO Spotfire</td>\n",
       "      <td>86</td>\n",
       "    </tr>\n",
       "    <tr>\n",
       "      <th>4</th>\n",
       "      <td>SAP Analytics Cloud</td>\n",
       "      <td>106</td>\n",
       "    </tr>\n",
       "    <tr>\n",
       "      <th>5</th>\n",
       "      <td>Alteryx</td>\n",
       "      <td>132</td>\n",
       "    </tr>\n",
       "    <tr>\n",
       "      <th>6</th>\n",
       "      <td>Looker</td>\n",
       "      <td>166</td>\n",
       "    </tr>\n",
       "    <tr>\n",
       "      <th>7</th>\n",
       "      <td>Microsoft Azure Synapse</td>\n",
       "      <td>167</td>\n",
       "    </tr>\n",
       "    <tr>\n",
       "      <th>8</th>\n",
       "      <td>Other</td>\n",
       "      <td>191</td>\n",
       "    </tr>\n",
       "    <tr>\n",
       "      <th>9</th>\n",
       "      <td>Qlik Sense</td>\n",
       "      <td>207</td>\n",
       "    </tr>\n",
       "    <tr>\n",
       "      <th>10</th>\n",
       "      <td>Amazon QuickSight</td>\n",
       "      <td>224</td>\n",
       "    </tr>\n",
       "    <tr>\n",
       "      <th>11</th>\n",
       "      <td>Google Data Studio</td>\n",
       "      <td>643</td>\n",
       "    </tr>\n",
       "    <tr>\n",
       "      <th>12</th>\n",
       "      <td>Microsoft Power BI</td>\n",
       "      <td>1658</td>\n",
       "    </tr>\n",
       "    <tr>\n",
       "      <th>13</th>\n",
       "      <td>Tableau</td>\n",
       "      <td>1732</td>\n",
       "    </tr>\n",
       "    <tr>\n",
       "      <th>14</th>\n",
       "      <td>None</td>\n",
       "      <td>2050</td>\n",
       "    </tr>\n",
       "  </tbody>\n",
       "</table>\n",
       "</div>"
      ],
      "text/plain": [
       "                     bi_tool  Number_of_Respondents\n",
       "0               Thoughtspot                      22\n",
       "1                   Sisense                      38\n",
       "2                       Domo                     44\n",
       "3             TIBCO Spotfire                     86\n",
       "4       SAP Analytics Cloud                     106\n",
       "5                   Alteryx                     132\n",
       "6                     Looker                    166\n",
       "7   Microsoft Azure Synapse                     167\n",
       "8                      Other                    191\n",
       "9                 Qlik Sense                    207\n",
       "10         Amazon QuickSight                    224\n",
       "11        Google Data Studio                    643\n",
       "12        Microsoft Power BI                   1658\n",
       "13                   Tableau                   1732\n",
       "14                      None                   2050"
      ]
     },
     "execution_count": 231,
     "metadata": {},
     "output_type": "execute_result"
    }
   ],
   "source": [
    "#querying the database to retrieve the required data and converting it into a dataframe\n",
    "df_bi = pd.read_sql_query(\n",
    "    \"\"\"\n",
    "    SELECT b.bi_tool, COUNT(k.respondent_id) AS Number_of_Respondents\n",
    "    FROM kaggle_respondents_info k\n",
    "    JOIN respondents_bi_tools r ON (r.respondent_id = k.respondent_id)\n",
    "    JOIN bi_tools b ON (b.bi_id  = r.bi_id)\n",
    "    GROUP BY bi_tool\n",
    "    ORDER BY Number_of_Respondents\n",
    "    \"\"\", mydb)\n",
    "df_bi"
   ]
  },
  {
   "cell_type": "code",
   "execution_count": 232,
   "id": "1d55d817",
   "metadata": {},
   "outputs": [],
   "source": [
    "#removing the 'None' row\n",
    "df_bi = df_bi.drop(index=[14])\n",
    "df_bi.reset_index(inplace=True)\n",
    "del df_bi['index']"
   ]
  },
  {
   "cell_type": "code",
   "execution_count": 233,
   "id": "79363084",
   "metadata": {},
   "outputs": [],
   "source": [
    "#adding a percentage column\n",
    "total = df_bi['Number_of_Respondents'].sum()\n",
    "pct = []\n",
    "for i in range(df_bi.shape[0]):\n",
    "    p = (df_bi['Number_of_Respondents'][i] / total) * 100\n",
    "    pct.append(round(p, 2))\n",
    "df_bi['percentages'] = pct"
   ]
  },
  {
   "cell_type": "code",
   "execution_count": 234,
   "id": "17a1fff5",
   "metadata": {},
   "outputs": [],
   "source": [
    "#Sorting in descending order\n",
    "df_bi = df_bi.sort_values(by=['percentages'], ascending=False)\n",
    "df_bi.reset_index(inplace=True)\n",
    "del df_bi['index']"
   ]
  },
  {
   "cell_type": "code",
   "execution_count": 235,
   "id": "97bae4bd",
   "metadata": {},
   "outputs": [
    {
     "data": {
      "text/html": [
       "<div>\n",
       "<style scoped>\n",
       "    .dataframe tbody tr th:only-of-type {\n",
       "        vertical-align: middle;\n",
       "    }\n",
       "\n",
       "    .dataframe tbody tr th {\n",
       "        vertical-align: top;\n",
       "    }\n",
       "\n",
       "    .dataframe thead th {\n",
       "        text-align: right;\n",
       "    }\n",
       "</style>\n",
       "<table border=\"1\" class=\"dataframe\">\n",
       "  <thead>\n",
       "    <tr style=\"text-align: right;\">\n",
       "      <th></th>\n",
       "      <th>bi_tool</th>\n",
       "      <th>Number_of_Respondents</th>\n",
       "      <th>percentages</th>\n",
       "    </tr>\n",
       "  </thead>\n",
       "  <tbody>\n",
       "    <tr>\n",
       "      <th>4</th>\n",
       "      <td>Qlik Sense</td>\n",
       "      <td>207</td>\n",
       "      <td>3.82</td>\n",
       "    </tr>\n",
       "    <tr>\n",
       "      <th>3</th>\n",
       "      <td>Amazon QuickSight</td>\n",
       "      <td>224</td>\n",
       "      <td>4.14</td>\n",
       "    </tr>\n",
       "    <tr>\n",
       "      <th>2</th>\n",
       "      <td>Google Data Studio</td>\n",
       "      <td>643</td>\n",
       "      <td>11.87</td>\n",
       "    </tr>\n",
       "    <tr>\n",
       "      <th>1</th>\n",
       "      <td>Microsoft Power BI</td>\n",
       "      <td>1658</td>\n",
       "      <td>30.61</td>\n",
       "    </tr>\n",
       "    <tr>\n",
       "      <th>0</th>\n",
       "      <td>Tableau</td>\n",
       "      <td>1732</td>\n",
       "      <td>31.98</td>\n",
       "    </tr>\n",
       "  </tbody>\n",
       "</table>\n",
       "</div>"
      ],
      "text/plain": [
       "              bi_tool  Number_of_Respondents  percentages\n",
       "4          Qlik Sense                    207         3.82\n",
       "3   Amazon QuickSight                    224         4.14\n",
       "2  Google Data Studio                    643        11.87\n",
       "1  Microsoft Power BI                   1658        30.61\n",
       "0             Tableau                   1732        31.98"
      ]
     },
     "execution_count": 235,
     "metadata": {},
     "output_type": "execute_result"
    }
   ],
   "source": [
    "#Taking the first five and sorting them again in ascending order\n",
    "df_bi = df_bi.head(5)\n",
    "df_bi = df_bi.sort_values(by=['percentages'], ascending=True)\n",
    "df_bi"
   ]
  },
  {
   "cell_type": "code",
   "execution_count": 236,
   "id": "fa0da3a4",
   "metadata": {},
   "outputs": [
    {
     "data": {
      "image/png": "[encoded data removed]",
      "text/plain": [
       "<Figure size 500x500 with 1 Axes>"
      ]
     },
     "metadata": {},
     "output_type": "display_data"
    }
   ],
   "source": [
    "#Creating my chart\n",
    "my_bar(df_bi['bi_tool'], df_bi['Number_of_Respondents'], df_bi['bi_tool'], \n",
    "       df_bi['percentages'], 'Top 5 BI Tools')"
   ]
  },
  {
   "cell_type": "markdown",
   "id": "78e528b7",
   "metadata": {},
   "source": [
    "### Data Storage Products"
   ]
  },
  {
   "cell_type": "code",
   "execution_count": 253,
   "id": "8c44a8ce",
   "metadata": {},
   "outputs": [
    {
     "name": "stderr",
     "output_type": "stream",
     "text": [
      "C:\\Users\\King Solo\\AppData\\Local\\Temp\\ipykernel_6108\\3827470636.py:2: UserWarning: pandas only supports SQLAlchemy connectable (engine/connection) or database string URI or sqlite3 DBAPI2 connection. Other DBAPI2 objects are not tested. Please consider using SQLAlchemy.\n",
      "  df_ds = pd.read_sql_query(\n"
     ]
    },
    {
     "data": {
      "text/html": [
       "<div>\n",
       "<style scoped>\n",
       "    .dataframe tbody tr th:only-of-type {\n",
       "        vertical-align: middle;\n",
       "    }\n",
       "\n",
       "    .dataframe tbody tr th {\n",
       "        vertical-align: top;\n",
       "    }\n",
       "\n",
       "    .dataframe thead th {\n",
       "        text-align: right;\n",
       "    }\n",
       "</style>\n",
       "<table border=\"1\" class=\"dataframe\">\n",
       "  <thead>\n",
       "    <tr style=\"text-align: right;\">\n",
       "      <th></th>\n",
       "      <th>data_store</th>\n",
       "      <th>Number_of_Respondents</th>\n",
       "    </tr>\n",
       "  </thead>\n",
       "  <tbody>\n",
       "    <tr>\n",
       "      <th>0</th>\n",
       "      <td>Other</td>\n",
       "      <td>74</td>\n",
       "    </tr>\n",
       "    <tr>\n",
       "      <th>1</th>\n",
       "      <td>Amazon Elastic File System (EFS)</td>\n",
       "      <td>447</td>\n",
       "    </tr>\n",
       "    <tr>\n",
       "      <th>2</th>\n",
       "      <td>Google Cloud Filestore</td>\n",
       "      <td>481</td>\n",
       "    </tr>\n",
       "    <tr>\n",
       "      <th>3</th>\n",
       "      <td>Microsoft Azure Files</td>\n",
       "      <td>511</td>\n",
       "    </tr>\n",
       "    <tr>\n",
       "      <th>4</th>\n",
       "      <td>Microsoft Azure Blob Storage</td>\n",
       "      <td>615</td>\n",
       "    </tr>\n",
       "    <tr>\n",
       "      <th>5</th>\n",
       "      <td>No / None</td>\n",
       "      <td>771</td>\n",
       "    </tr>\n",
       "    <tr>\n",
       "      <th>6</th>\n",
       "      <td>Google Cloud Storage (GCS)</td>\n",
       "      <td>1288</td>\n",
       "    </tr>\n",
       "    <tr>\n",
       "      <th>7</th>\n",
       "      <td>Amazon Simple Storage Service (S3)</td>\n",
       "      <td>1624</td>\n",
       "    </tr>\n",
       "  </tbody>\n",
       "</table>\n",
       "</div>"
      ],
      "text/plain": [
       "                              data_store  Number_of_Respondents\n",
       "0                                  Other                     74\n",
       "1     Amazon Elastic File System (EFS)                      447\n",
       "2                Google Cloud Filestore                     481\n",
       "3                 Microsoft Azure Files                     511\n",
       "4           Microsoft Azure Blob Storage                    615\n",
       "5                              No / None                    771\n",
       "6          Google Cloud Storage (GCS)                      1288\n",
       "7   Amazon Simple Storage Service (S3)                     1624"
      ]
     },
     "execution_count": 253,
     "metadata": {},
     "output_type": "execute_result"
    }
   ],
   "source": [
    "#querying the database to retrieve the required data and converting it into a dataframe\n",
    "df_ds = pd.read_sql_query(\n",
    "    \"\"\"\n",
    "    SELECT d.data_store, COUNT(k.respondent_id) AS Number_of_Respondents\n",
    "    FROM kaggle_respondents_info k\n",
    "    JOIN respondents_data_stores r ON (r.respondent_id = k.respondent_id)\n",
    "    JOIN data_stores d ON (d.store_id  = r.store_id)\n",
    "    GROUP BY data_store\n",
    "    ORDER BY Number_of_Respondents\n",
    "    \"\"\", mydb)\n",
    "df_ds"
   ]
  },
  {
   "cell_type": "code",
   "execution_count": 254,
   "id": "b81a5fbf",
   "metadata": {},
   "outputs": [],
   "source": [
    "#removing the 'None' row\n",
    "df_ds = df_ds.drop(index=[5])\n",
    "df_ds.reset_index(inplace=True)\n",
    "del df_ds['index']"
   ]
  },
  {
   "cell_type": "code",
   "execution_count": 255,
   "id": "5c9c7c0f",
   "metadata": {},
   "outputs": [],
   "source": [
    "#adding a percentage column\n",
    "total = df_ds['Number_of_Respondents'].sum()\n",
    "pct = []\n",
    "for i in range(df_ds.shape[0]):\n",
    "    p = (df_ds['Number_of_Respondents'][i] / total) * 100\n",
    "    pct.append(round(p, 2))\n",
    "df_ds['percentages'] = pct"
   ]
  },
  {
   "cell_type": "code",
   "execution_count": 256,
   "id": "cccbdd0c",
   "metadata": {},
   "outputs": [],
   "source": [
    "#Sorting in descending order\n",
    "df_ds = df_ds.sort_values(by=['percentages'], ascending=False)\n",
    "df_ds.reset_index(inplace=True)\n",
    "del df_ds['index']\n",
    "df_ds = df_ds.head(5)"
   ]
  },
  {
   "cell_type": "code",
   "execution_count": 257,
   "id": "43c2d82a",
   "metadata": {},
   "outputs": [],
   "source": [
    "#function\n",
    "def my_ba(my_xdata, my_ydata, my_label, my_pct, my_title, bbox):\n",
    "    plt.figure(figsize=(8,5))\n",
    "    colors_list = [\"limegreen\", \"orangered\", \"orange\", \"teal\", \"deepskyblue\", \"yellow\", \"crimson\"]\n",
    "    graph = plt.bar(my_xdata, my_ydata, color = colors_list, \n",
    "                    label = my_label)\n",
    "    plt.title(my_title)\n",
    "    plt.xticks(color = 'w')\n",
    "\n",
    "\n",
    "    i = 0\n",
    "    for p in graph:\n",
    "        width = p.get_width()\n",
    "        height = p.get_height()\n",
    "        x, y = p.get_xy()\n",
    "        plt.text(x+width/2,\n",
    "                 y+height*1.01,\n",
    "                 str(my_pct[i])+'%', ha='center')\n",
    "        i+=1\n",
    "\n",
    "    plt.legend(bbox_to_anchor=(bbox,1), loc='upper right')\n",
    "    plt.show()"
   ]
  },
  {
   "cell_type": "code",
   "execution_count": 258,
   "id": "456a402f",
   "metadata": {},
   "outputs": [
    {
     "data": {
      "image/png": "[encoded data removed]",
      "text/plain": [
       "<Figure size 800x500 with 1 Axes>"
      ]
     },
     "metadata": {},
     "output_type": "display_data"
    }
   ],
   "source": [
    "my_ba(df_ds['data_store'], df_ds['Number_of_Respondents'], df_ds['data_store'], \n",
    "      df_ds['percentages'], 'Top 5 Data Storage Products', 1.0)"
   ]
  },
  {
   "cell_type": "markdown",
   "id": "a212bce4",
   "metadata": {},
   "source": [
    "### Cloud Computing Platforms"
   ]
  },
  {
   "cell_type": "code",
   "execution_count": 259,
   "id": "b826f7c2",
   "metadata": {},
   "outputs": [
    {
     "name": "stderr",
     "output_type": "stream",
     "text": [
      "C:\\Users\\King Solo\\AppData\\Local\\Temp\\ipykernel_6108\\1181050657.py:2: UserWarning: pandas only supports SQLAlchemy connectable (engine/connection) or database string URI or sqlite3 DBAPI2 connection. Other DBAPI2 objects are not tested. Please consider using SQLAlchemy.\n",
      "  df_cp = pd.read_sql_query(\n"
     ]
    },
    {
     "data": {
      "text/html": [
       "<div>\n",
       "<style scoped>\n",
       "    .dataframe tbody tr th:only-of-type {\n",
       "        vertical-align: middle;\n",
       "    }\n",
       "\n",
       "    .dataframe tbody tr th {\n",
       "        vertical-align: top;\n",
       "    }\n",
       "\n",
       "    .dataframe thead th {\n",
       "        text-align: right;\n",
       "    }\n",
       "</style>\n",
       "<table border=\"1\" class=\"dataframe\">\n",
       "  <thead>\n",
       "    <tr style=\"text-align: right;\">\n",
       "      <th></th>\n",
       "      <th>cloud_platform</th>\n",
       "      <th>Number_of_Respondents</th>\n",
       "    </tr>\n",
       "  </thead>\n",
       "  <tbody>\n",
       "    <tr>\n",
       "      <th>0</th>\n",
       "      <td>Huawei Cloud</td>\n",
       "      <td>47</td>\n",
       "    </tr>\n",
       "    <tr>\n",
       "      <th>1</th>\n",
       "      <td>Tencent Cloud</td>\n",
       "      <td>56</td>\n",
       "    </tr>\n",
       "    <tr>\n",
       "      <th>2</th>\n",
       "      <td>Alibaba Cloud</td>\n",
       "      <td>76</td>\n",
       "    </tr>\n",
       "    <tr>\n",
       "      <th>3</th>\n",
       "      <td>SAP Cloud</td>\n",
       "      <td>107</td>\n",
       "    </tr>\n",
       "    <tr>\n",
       "      <th>4</th>\n",
       "      <td>VMware Cloud</td>\n",
       "      <td>155</td>\n",
       "    </tr>\n",
       "    <tr>\n",
       "      <th>5</th>\n",
       "      <td>Other</td>\n",
       "      <td>217</td>\n",
       "    </tr>\n",
       "    <tr>\n",
       "      <th>6</th>\n",
       "      <td>Oracle Cloud</td>\n",
       "      <td>230</td>\n",
       "    </tr>\n",
       "    <tr>\n",
       "      <th>7</th>\n",
       "      <td>IBM Cloud / Red Hat</td>\n",
       "      <td>287</td>\n",
       "    </tr>\n",
       "    <tr>\n",
       "      <th>8</th>\n",
       "      <td>None</td>\n",
       "      <td>1167</td>\n",
       "    </tr>\n",
       "    <tr>\n",
       "      <th>9</th>\n",
       "      <td>Microsoft Azure</td>\n",
       "      <td>1416</td>\n",
       "    </tr>\n",
       "    <tr>\n",
       "      <th>10</th>\n",
       "      <td>Google Cloud Platform (GCP)</td>\n",
       "      <td>2056</td>\n",
       "    </tr>\n",
       "    <tr>\n",
       "      <th>11</th>\n",
       "      <td>Amazon Web Services (AWS)</td>\n",
       "      <td>2346</td>\n",
       "    </tr>\n",
       "  </tbody>\n",
       "</table>\n",
       "</div>"
      ],
      "text/plain": [
       "                   cloud_platform  Number_of_Respondents\n",
       "0                   Huawei Cloud                      47\n",
       "1                  Tencent Cloud                      56\n",
       "2                  Alibaba Cloud                      76\n",
       "3                      SAP Cloud                     107\n",
       "4                   VMware Cloud                     155\n",
       "5                           Other                    217\n",
       "6                   Oracle Cloud                     230\n",
       "7            IBM Cloud / Red Hat                     287\n",
       "8                            None                   1167\n",
       "9                Microsoft Azure                    1416\n",
       "10   Google Cloud Platform (GCP)                    2056\n",
       "11     Amazon Web Services (AWS)                    2346"
      ]
     },
     "execution_count": 259,
     "metadata": {},
     "output_type": "execute_result"
    }
   ],
   "source": [
    "#querying the database to retrieve the required data and converting it into a dataframe\n",
    "df_cp = pd.read_sql_query(\n",
    "    \"\"\"\n",
    "    SELECT c.cloud_platform, COUNT(k.respondent_id) AS Number_of_Respondents\n",
    "    FROM kaggle_respondents_info k\n",
    "    JOIN respondents_cloud_platforms r ON (r.respondent_id = k.respondent_id)\n",
    "    JOIN cloud_platforms c ON (c.cloud_id  = r.cloud_id)\n",
    "    GROUP BY cloud_platform\n",
    "    ORDER BY Number_of_Respondents\n",
    "    \"\"\", mydb)\n",
    "df_cp"
   ]
  },
  {
   "cell_type": "code",
   "execution_count": 260,
   "id": "24462ebf",
   "metadata": {},
   "outputs": [],
   "source": [
    "#removing the 'None' row\n",
    "df_cp = df_cp.drop(index=[8])\n",
    "df_cp.reset_index(inplace=True)\n",
    "del df_cp['index']"
   ]
  },
  {
   "cell_type": "code",
   "execution_count": 261,
   "id": "cd72a395",
   "metadata": {},
   "outputs": [],
   "source": [
    "#adding a percentage column\n",
    "total = df_cp['Number_of_Respondents'].sum()\n",
    "pct = []\n",
    "for i in range(df_cp.shape[0]):\n",
    "    p = (df_cp['Number_of_Respondents'][i] / total) * 100\n",
    "    pct.append(round(p, 2))\n",
    "df_cp['percentages'] = pct"
   ]
  },
  {
   "cell_type": "code",
   "execution_count": 262,
   "id": "11f0a255",
   "metadata": {},
   "outputs": [],
   "source": [
    "#Sorting in descending order\n",
    "df_cp = df_cp.sort_values(by=['percentages'], ascending=False)\n",
    "df_cp.reset_index(inplace=True)\n",
    "del df_cp['index']\n",
    "df_cp = df_cp.head(5)"
   ]
  },
  {
   "cell_type": "code",
   "execution_count": 263,
   "id": "d3e11931",
   "metadata": {},
   "outputs": [
    {
     "data": {
      "image/png": "[encoded data removed]",
      "text/plain": [
       "<Figure size 800x500 with 1 Axes>"
      ]
     },
     "metadata": {},
     "output_type": "display_data"
    }
   ],
   "source": [
    "my_ba(df_cp['cloud_platform'], df_cp['Number_of_Respondents'], df_cp['cloud_platform'], \n",
    "      df_cp['percentages'], 'Top 5 Cloud Computing Platforms', 1.0)"
   ]
  },
  {
   "cell_type": "markdown",
   "id": "89594189",
   "metadata": {},
   "source": [
    "### Computer Vision Methods"
   ]
  },
  {
   "cell_type": "code",
   "execution_count": 276,
   "id": "8b538818",
   "metadata": {
    "scrolled": true
   },
   "outputs": [
    {
     "name": "stderr",
     "output_type": "stream",
     "text": [
      "C:\\Users\\King Solo\\AppData\\Local\\Temp\\ipykernel_6108\\392077702.py:2: UserWarning: pandas only supports SQLAlchemy connectable (engine/connection) or database string URI or sqlite3 DBAPI2 connection. Other DBAPI2 objects are not tested. Please consider using SQLAlchemy.\n",
      "  df_cv = pd.read_sql_query(\n"
     ]
    },
    {
     "data": {
      "text/html": [
       "<div>\n",
       "<style scoped>\n",
       "    .dataframe tbody tr th:only-of-type {\n",
       "        vertical-align: middle;\n",
       "    }\n",
       "\n",
       "    .dataframe tbody tr th {\n",
       "        vertical-align: top;\n",
       "    }\n",
       "\n",
       "    .dataframe thead th {\n",
       "        text-align: right;\n",
       "    }\n",
       "</style>\n",
       "<table border=\"1\" class=\"dataframe\">\n",
       "  <thead>\n",
       "    <tr style=\"text-align: right;\">\n",
       "      <th></th>\n",
       "      <th>cv_method</th>\n",
       "      <th>Number_of_Respondents</th>\n",
       "    </tr>\n",
       "  </thead>\n",
       "  <tbody>\n",
       "    <tr>\n",
       "      <th>0</th>\n",
       "      <td>Other</td>\n",
       "      <td>146</td>\n",
       "    </tr>\n",
       "    <tr>\n",
       "      <th>1</th>\n",
       "      <td>Vision transformer networks (ViT, DeiT, BiT, B...</td>\n",
       "      <td>782</td>\n",
       "    </tr>\n",
       "    <tr>\n",
       "      <th>2</th>\n",
       "      <td>Generative Networks (GAN, VAE, etc)</td>\n",
       "      <td>1343</td>\n",
       "    </tr>\n",
       "    <tr>\n",
       "      <th>3</th>\n",
       "      <td>None</td>\n",
       "      <td>1455</td>\n",
       "    </tr>\n",
       "    <tr>\n",
       "      <th>4</th>\n",
       "      <td>General purpose image/video tools (PIL, cv2, s...</td>\n",
       "      <td>2293</td>\n",
       "    </tr>\n",
       "    <tr>\n",
       "      <th>5</th>\n",
       "      <td>Image segmentation methods (U-Net, Mask R-CNN,...</td>\n",
       "      <td>2495</td>\n",
       "    </tr>\n",
       "    <tr>\n",
       "      <th>6</th>\n",
       "      <td>Object detection methods (YOLOv6, RetinaNet, etc)</td>\n",
       "      <td>2525</td>\n",
       "    </tr>\n",
       "    <tr>\n",
       "      <th>7</th>\n",
       "      <td>Image classification and other general purpose...</td>\n",
       "      <td>3664</td>\n",
       "    </tr>\n",
       "  </tbody>\n",
       "</table>\n",
       "</div>"
      ],
      "text/plain": [
       "                                           cv_method  Number_of_Respondents\n",
       "0                                              Other                    146\n",
       "1  Vision transformer networks (ViT, DeiT, BiT, B...                    782\n",
       "2                Generative Networks (GAN, VAE, etc)                   1343\n",
       "3                                               None                   1455\n",
       "4  General purpose image/video tools (PIL, cv2, s...                   2293\n",
       "5  Image segmentation methods (U-Net, Mask R-CNN,...                   2495\n",
       "6  Object detection methods (YOLOv6, RetinaNet, etc)                   2525\n",
       "7  Image classification and other general purpose...                   3664"
      ]
     },
     "execution_count": 276,
     "metadata": {},
     "output_type": "execute_result"
    }
   ],
   "source": [
    "#querying the database to retrieve the required data and converting it into a dataframe\n",
    "df_cv = pd.read_sql_query(\n",
    "    \"\"\"\n",
    "    SELECT c.cv_method, COUNT(k.respondent_id) AS Number_of_Respondents\n",
    "    FROM kaggle_respondents_info k\n",
    "    JOIN respondents_cv_methods r ON (r.respondent_id = k.respondent_id)\n",
    "    JOIN cv_methods c ON (c.cv_id = r.cv_id)\n",
    "    GROUP BY cv_method\n",
    "    ORDER BY Number_of_Respondents\n",
    "    \"\"\", mydb)\n",
    "df_cv"
   ]
  },
  {
   "cell_type": "code",
   "execution_count": 278,
   "id": "b8892642",
   "metadata": {},
   "outputs": [],
   "source": [
    "#shortening data in index 5\n",
    "df_cv.at[7,'cv_method']='Image classification and other general purpose networks'"
   ]
  },
  {
   "cell_type": "code",
   "execution_count": 279,
   "id": "421e1d4e",
   "metadata": {},
   "outputs": [],
   "source": [
    "#removing the 'None' row\n",
    "df_cv = df_cv.drop(index=[3])\n",
    "df_cv.reset_index(inplace=True)\n",
    "del df_cv['index']"
   ]
  },
  {
   "cell_type": "code",
   "execution_count": 280,
   "id": "a2b5e689",
   "metadata": {},
   "outputs": [],
   "source": [
    "#adding a percentage column\n",
    "total = df_cv['Number_of_Respondents'].sum()\n",
    "pct = []\n",
    "for i in range(df_cv.shape[0]):\n",
    "    p = (df_cv['Number_of_Respondents'][i] / total) * 100\n",
    "    pct.append(round(p, 2))\n",
    "df_cv['percentages'] = pct"
   ]
  },
  {
   "cell_type": "code",
   "execution_count": 281,
   "id": "f20c0120",
   "metadata": {},
   "outputs": [],
   "source": [
    "#Sorting in descending order\n",
    "df_cv = df_cv.sort_values(by=['percentages'], ascending=False)\n",
    "df_cv.reset_index(inplace=True)\n",
    "del df_cv['index']\n",
    "df_cv = df_cv.head(5)"
   ]
  },
  {
   "cell_type": "code",
   "execution_count": 285,
   "id": "ab50cd04",
   "metadata": {},
   "outputs": [
    {
     "data": {
      "image/png": "[encoded data removed]",
      "text/plain": [
       "<Figure size 800x500 with 1 Axes>"
      ]
     },
     "metadata": {},
     "output_type": "display_data"
    }
   ],
   "source": [
    "my_ba(df_cv['cv_method'], df_cv['Number_of_Respondents'], df_cv['cv_method'], \n",
    "      df_cv['percentages'], 'Top 5 Computer Vision Methods', 1.0)"
   ]
  },
  {
   "cell_type": "markdown",
   "id": "005f3d39",
   "metadata": {},
   "source": [
    "### Machine Learning Algorithms"
   ]
  },
  {
   "cell_type": "code",
   "execution_count": 293,
   "id": "8cdcb913",
   "metadata": {
    "scrolled": true
   },
   "outputs": [
    {
     "name": "stderr",
     "output_type": "stream",
     "text": [
      "C:\\Users\\King Solo\\AppData\\Local\\Temp\\ipykernel_6108\\236412479.py:2: UserWarning: pandas only supports SQLAlchemy connectable (engine/connection) or database string URI or sqlite3 DBAPI2 connection. Other DBAPI2 objects are not tested. Please consider using SQLAlchemy.\n",
      "  df_al = pd.read_sql_query(\n"
     ]
    },
    {
     "data": {
      "text/html": [
       "<div>\n",
       "<style scoped>\n",
       "    .dataframe tbody tr th:only-of-type {\n",
       "        vertical-align: middle;\n",
       "    }\n",
       "\n",
       "    .dataframe tbody tr th {\n",
       "        vertical-align: top;\n",
       "    }\n",
       "\n",
       "    .dataframe thead th {\n",
       "        text-align: right;\n",
       "    }\n",
       "</style>\n",
       "<table border=\"1\" class=\"dataframe\">\n",
       "  <thead>\n",
       "    <tr style=\"text-align: right;\">\n",
       "      <th></th>\n",
       "      <th>algorithm</th>\n",
       "      <th>Number_of_Respondents</th>\n",
       "    </tr>\n",
       "  </thead>\n",
       "  <tbody>\n",
       "    <tr>\n",
       "      <th>0</th>\n",
       "      <td>Other</td>\n",
       "      <td>538</td>\n",
       "    </tr>\n",
       "    <tr>\n",
       "      <th>1</th>\n",
       "      <td>Evolutionary Approaches</td>\n",
       "      <td>823</td>\n",
       "    </tr>\n",
       "    <tr>\n",
       "      <th>2</th>\n",
       "      <td>Generative Adversarial Networks</td>\n",
       "      <td>1166</td>\n",
       "    </tr>\n",
       "    <tr>\n",
       "      <th>3</th>\n",
       "      <td>Autoencoder Networks (DAE, VAE, etc)</td>\n",
       "      <td>1234</td>\n",
       "    </tr>\n",
       "    <tr>\n",
       "      <th>4</th>\n",
       "      <td>None</td>\n",
       "      <td>1326</td>\n",
       "    </tr>\n",
       "    <tr>\n",
       "      <th>5</th>\n",
       "      <td>Graph Neural Networks</td>\n",
       "      <td>1422</td>\n",
       "    </tr>\n",
       "    <tr>\n",
       "      <th>6</th>\n",
       "      <td>Transformer Networks (BERT, gpt-3, etc)</td>\n",
       "      <td>2196</td>\n",
       "    </tr>\n",
       "    <tr>\n",
       "      <th>7</th>\n",
       "      <td>Recurrent Neural Networks</td>\n",
       "      <td>3451</td>\n",
       "    </tr>\n",
       "    <tr>\n",
       "      <th>8</th>\n",
       "      <td>Dense Neural Networks (MLPs, etc)</td>\n",
       "      <td>3476</td>\n",
       "    </tr>\n",
       "    <tr>\n",
       "      <th>9</th>\n",
       "      <td>Bayesian Approaches</td>\n",
       "      <td>3661</td>\n",
       "    </tr>\n",
       "    <tr>\n",
       "      <th>10</th>\n",
       "      <td>Gradient Boosting Machines (xgboost, lightgbm,...</td>\n",
       "      <td>5506</td>\n",
       "    </tr>\n",
       "    <tr>\n",
       "      <th>11</th>\n",
       "      <td>Convolutional Neural Networks</td>\n",
       "      <td>6006</td>\n",
       "    </tr>\n",
       "    <tr>\n",
       "      <th>12</th>\n",
       "      <td>Decision Trees or Random Forests</td>\n",
       "      <td>9373</td>\n",
       "    </tr>\n",
       "    <tr>\n",
       "      <th>13</th>\n",
       "      <td>Linear or Logistic Regression</td>\n",
       "      <td>11338</td>\n",
       "    </tr>\n",
       "  </tbody>\n",
       "</table>\n",
       "</div>"
      ],
      "text/plain": [
       "                                            algorithm  Number_of_Respondents\n",
       "0                                               Other                    538\n",
       "1                             Evolutionary Approaches                    823\n",
       "2                     Generative Adversarial Networks                   1166\n",
       "3                Autoencoder Networks (DAE, VAE, etc)                   1234\n",
       "4                                                None                   1326\n",
       "5                               Graph Neural Networks                   1422\n",
       "6             Transformer Networks (BERT, gpt-3, etc)                   2196\n",
       "7                           Recurrent Neural Networks                   3451\n",
       "8                   Dense Neural Networks (MLPs, etc)                   3476\n",
       "9                                 Bayesian Approaches                   3661\n",
       "10  Gradient Boosting Machines (xgboost, lightgbm,...                   5506\n",
       "11                      Convolutional Neural Networks                   6006\n",
       "12                   Decision Trees or Random Forests                   9373\n",
       "13                      Linear or Logistic Regression                  11338"
      ]
     },
     "execution_count": 293,
     "metadata": {},
     "output_type": "execute_result"
    }
   ],
   "source": [
    "#querying the database to retrieve the required data and converting it into a dataframe\n",
    "df_al = pd.read_sql_query(\n",
    "    \"\"\"\n",
    "    SELECT m.algorithm, COUNT(k.respondent_id) AS Number_of_Respondents\n",
    "    FROM kaggle_respondents_info k\n",
    "    JOIN respondents_ml_algo r ON (r.respondent_id = k.respondent_id)\n",
    "    JOIN ml_algo m ON (m.algorithm_id = r.algorithm_id)\n",
    "    GROUP BY algorithm\n",
    "    ORDER BY Number_of_Respondents\n",
    "    \"\"\", mydb)\n",
    "df_al"
   ]
  },
  {
   "cell_type": "code",
   "execution_count": 294,
   "id": "7d24a24f",
   "metadata": {},
   "outputs": [],
   "source": [
    "#shortening data in index 10\n",
    "df_al.at[10,'algorithm']='Gradient Boosting Machines'"
   ]
  },
  {
   "cell_type": "code",
   "execution_count": 295,
   "id": "4a327e80",
   "metadata": {},
   "outputs": [],
   "source": [
    "#removing the 'None' row\n",
    "df_al = df_al.drop(index=[4])\n",
    "df_al.reset_index(inplace=True)\n",
    "del df_al['index']"
   ]
  },
  {
   "cell_type": "code",
   "execution_count": 296,
   "id": "f3da7b25",
   "metadata": {},
   "outputs": [],
   "source": [
    "#adding a percentage column\n",
    "total = df_al['Number_of_Respondents'].sum()\n",
    "pct = []\n",
    "for i in range(df_al.shape[0]):\n",
    "    p = (df_al['Number_of_Respondents'][i] / total) * 100\n",
    "    pct.append(round(p, 2))\n",
    "df_al['percentages'] = pct"
   ]
  },
  {
   "cell_type": "code",
   "execution_count": 297,
   "id": "14a42f30",
   "metadata": {},
   "outputs": [],
   "source": [
    "#Sorting in descending order\n",
    "df_al = df_al.sort_values(by=['percentages'], ascending=False)\n",
    "df_al.reset_index(inplace=True)\n",
    "del df_al['index']\n",
    "df_al = df_al.head(5)"
   ]
  },
  {
   "cell_type": "code",
   "execution_count": 306,
   "id": "3caa82b1",
   "metadata": {},
   "outputs": [
    {
     "data": {
      "image/png": "[encoded data removed]",
      "text/plain": [
       "<Figure size 800x500 with 1 Axes>"
      ]
     },
     "metadata": {},
     "output_type": "display_data"
    }
   ],
   "source": [
    "my_ba(df_al['algorithm'], df_al['Number_of_Respondents'], df_al['algorithm'], \n",
    "      df_al['percentages'], 'Top 5 Machine Learning Algorithms', 1.0)"
   ]
  },
  {
   "cell_type": "markdown",
   "id": "cce606a2",
   "metadata": {},
   "source": [
    "### Machine Learning Frameworks"
   ]
  },
  {
   "cell_type": "code",
   "execution_count": 300,
   "id": "57e9867d",
   "metadata": {},
   "outputs": [
    {
     "name": "stderr",
     "output_type": "stream",
     "text": [
      "C:\\Users\\King Solo\\AppData\\Local\\Temp\\ipykernel_6108\\447251666.py:2: UserWarning: pandas only supports SQLAlchemy connectable (engine/connection) or database string URI or sqlite3 DBAPI2 connection. Other DBAPI2 objects are not tested. Please consider using SQLAlchemy.\n",
      "  df_ml = pd.read_sql_query(\n"
     ]
    },
    {
     "data": {
      "text/html": [
       "<div>\n",
       "<style scoped>\n",
       "    .dataframe tbody tr th:only-of-type {\n",
       "        vertical-align: middle;\n",
       "    }\n",
       "\n",
       "    .dataframe tbody tr th {\n",
       "        vertical-align: top;\n",
       "    }\n",
       "\n",
       "    .dataframe thead th {\n",
       "        text-align: right;\n",
       "    }\n",
       "</style>\n",
       "<table border=\"1\" class=\"dataframe\">\n",
       "  <thead>\n",
       "    <tr style=\"text-align: right;\">\n",
       "      <th></th>\n",
       "      <th>framework</th>\n",
       "      <th>Number_of_Respondents</th>\n",
       "    </tr>\n",
       "  </thead>\n",
       "  <tbody>\n",
       "    <tr>\n",
       "      <th>0</th>\n",
       "      <td>JAX</td>\n",
       "      <td>252</td>\n",
       "    </tr>\n",
       "    <tr>\n",
       "      <th>1</th>\n",
       "      <td>Tidymodels</td>\n",
       "      <td>547</td>\n",
       "    </tr>\n",
       "    <tr>\n",
       "      <th>2</th>\n",
       "      <td>Other</td>\n",
       "      <td>620</td>\n",
       "    </tr>\n",
       "    <tr>\n",
       "      <th>3</th>\n",
       "      <td>Fast.ai</td>\n",
       "      <td>648</td>\n",
       "    </tr>\n",
       "    <tr>\n",
       "      <th>4</th>\n",
       "      <td>Caret</td>\n",
       "      <td>821</td>\n",
       "    </tr>\n",
       "    <tr>\n",
       "      <th>5</th>\n",
       "      <td>PyTorch Lightning</td>\n",
       "      <td>1013</td>\n",
       "    </tr>\n",
       "    <tr>\n",
       "      <th>6</th>\n",
       "      <td>CatBoost</td>\n",
       "      <td>1165</td>\n",
       "    </tr>\n",
       "    <tr>\n",
       "      <th>7</th>\n",
       "      <td>Huggingface</td>\n",
       "      <td>1332</td>\n",
       "    </tr>\n",
       "    <tr>\n",
       "      <th>8</th>\n",
       "      <td>None</td>\n",
       "      <td>1709</td>\n",
       "    </tr>\n",
       "    <tr>\n",
       "      <th>9</th>\n",
       "      <td>LightGBM</td>\n",
       "      <td>1940</td>\n",
       "    </tr>\n",
       "    <tr>\n",
       "      <th>10</th>\n",
       "      <td>Xgboost</td>\n",
       "      <td>4477</td>\n",
       "    </tr>\n",
       "    <tr>\n",
       "      <th>11</th>\n",
       "      <td>PyTorch</td>\n",
       "      <td>5191</td>\n",
       "    </tr>\n",
       "    <tr>\n",
       "      <th>12</th>\n",
       "      <td>Keras</td>\n",
       "      <td>6575</td>\n",
       "    </tr>\n",
       "    <tr>\n",
       "      <th>13</th>\n",
       "      <td>TensorFlow</td>\n",
       "      <td>7953</td>\n",
       "    </tr>\n",
       "    <tr>\n",
       "      <th>14</th>\n",
       "      <td>Scikit-learn</td>\n",
       "      <td>11403</td>\n",
       "    </tr>\n",
       "  </tbody>\n",
       "</table>\n",
       "</div>"
      ],
      "text/plain": [
       "              framework  Number_of_Respondents\n",
       "0                  JAX                     252\n",
       "1           Tidymodels                     547\n",
       "2                 Other                    620\n",
       "3              Fast.ai                     648\n",
       "4                Caret                     821\n",
       "5    PyTorch Lightning                    1013\n",
       "6             CatBoost                    1165\n",
       "7          Huggingface                    1332\n",
       "8                  None                   1709\n",
       "9             LightGBM                    1940\n",
       "10             Xgboost                    4477\n",
       "11             PyTorch                    5191\n",
       "12               Keras                    6575\n",
       "13          TensorFlow                    7953\n",
       "14        Scikit-learn                   11403"
      ]
     },
     "execution_count": 300,
     "metadata": {},
     "output_type": "execute_result"
    }
   ],
   "source": [
    "#querying the database to retrieve the required data and converting it into a dataframe\n",
    "df_ml = pd.read_sql_query(\n",
    "    \"\"\"\n",
    "    SELECT m.framework, COUNT(k.respondent_id) AS Number_of_Respondents\n",
    "    FROM kaggle_respondents_info k\n",
    "    JOIN respondents_ml_frameworks r ON (r.respondent_id = k.respondent_id)\n",
    "    JOIN ml_frameworks m ON (m.framework_id = r.framework_id)\n",
    "    GROUP BY framework\n",
    "    ORDER BY Number_of_Respondents\n",
    "    \"\"\", mydb)\n",
    "df_ml"
   ]
  },
  {
   "cell_type": "code",
   "execution_count": 301,
   "id": "8c081850",
   "metadata": {},
   "outputs": [],
   "source": [
    "#removing the 'None' row\n",
    "df_ml = df_ml.drop(index=[8])\n",
    "df_ml.reset_index(inplace=True)\n",
    "del df_ml['index']"
   ]
  },
  {
   "cell_type": "code",
   "execution_count": 302,
   "id": "44ea00e8",
   "metadata": {},
   "outputs": [],
   "source": [
    "#adding a percentage column\n",
    "total = df_ml['Number_of_Respondents'].sum()\n",
    "pct = []\n",
    "for i in range(df_ml.shape[0]):\n",
    "    p = (df_ml['Number_of_Respondents'][i] / total) * 100\n",
    "    pct.append(round(p, 2))\n",
    "df_ml['percentages'] = pct"
   ]
  },
  {
   "cell_type": "code",
   "execution_count": 303,
   "id": "19e27b08",
   "metadata": {},
   "outputs": [],
   "source": [
    "#Sorting in descending order\n",
    "df_ml = df_ml.sort_values(by=['percentages'], ascending=False)\n",
    "df_ml.reset_index(inplace=True)\n",
    "del df_ml['index']\n",
    "df_ml = df_ml.head(5)"
   ]
  },
  {
   "cell_type": "code",
   "execution_count": 305,
   "id": "3a118b8b",
   "metadata": {},
   "outputs": [
    {
     "data": {
      "image/png": "[encoded data removed]",
      "text/plain": [
       "<Figure size 800x500 with 1 Axes>"
      ]
     },
     "metadata": {},
     "output_type": "display_data"
    }
   ],
   "source": [
    "my_ba(df_ml['framework'], df_ml['Number_of_Respondents'], df_ml['framework'], \n",
    "      df_ml['percentages'], 'Top 5 Machine Learning Frameworks', 1.0)"
   ]
  },
  {
   "cell_type": "code",
   "execution_count": 307,
   "id": "e3f5642b",
   "metadata": {},
   "outputs": [
    {
     "data": {
      "text/plain": [
       "True"
      ]
     },
     "execution_count": 307,
     "metadata": {},
     "output_type": "execute_result"
    }
   ],
   "source": [
    "mydb.close()\n",
    "cur.close()"
   ]
  }
 ],
 "metadata": {
  "kernelspec": {
   "display_name": "Python 3 (ipykernel)",
   "language": "python",
   "name": "python3"
  },
  "language_info": {
   "codemirror_mode": {
    "name": "ipython",
    "version": 3
   },
   "file_extension": ".py",
   "mimetype": "text/x-python",
   "name": "python",
   "nbconvert_exporter": "python",
   "pygments_lexer": "ipython3",
   "version": "3.10.4"
  }
 },
 "nbformat": 4,
 "nbformat_minor": 5
}
